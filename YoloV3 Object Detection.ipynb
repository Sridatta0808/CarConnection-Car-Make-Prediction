{
  "nbformat": 4,
  "nbformat_minor": 0,
  "metadata": {
    "colab": {
      "name": "Tensorflow YoloV3.ipynb",
      "provenance": [],
      "collapsed_sections": []
    },
    "kernelspec": {
      "name": "python3",
      "display_name": "Python 3"
    },
    "accelerator": "GPU"
  },
  "cells": [
    {
      "cell_type": "markdown",
      "metadata": {
        "id": "hk8fz_BCyMO7",
        "colab_type": "text"
      },
      "source": [
        "# **Yolov3 Tensorflow 2.0**\n"
      ]
    },
    {
      "cell_type": "code",
      "metadata": {
        "id": "1mLH39FUyGhr",
        "colab_type": "code",
        "colab": {
          "base_uri": "https://localhost:8080/",
          "height": 1000
        },
        "outputId": "9165fe28-f8f4-491a-9214-ac5f2706efc8"
      },
      "source": [
        "!git clone https://github.com/zzh8829/yolov3-tf2\n",
        "%cd yolov3-tf2/\n",
        "!pip install -r requirements-gpu.txt"
      ],
      "execution_count": 1,
      "outputs": [
        {
          "output_type": "stream",
          "text": [
            "Cloning into 'yolov3-tf2'...\n",
            "remote: Enumerating objects: 387, done.\u001b[K\n",
            "remote: Total 387 (delta 0), reused 0 (delta 0), pack-reused 387\u001b[K\n",
            "Receiving objects: 100% (387/387), 4.22 MiB | 9.10 MiB/s, done.\n",
            "Resolving deltas: 100% (226/226), done.\n",
            "/content/yolov3-tf2\n",
            "Obtaining file:///content/yolov3-tf2 (from -r requirements-gpu.txt (line 6))\n",
            "Collecting tensorflow-gpu==2.1.0\n",
            "\u001b[?25l  Downloading https://files.pythonhosted.org/packages/0a/93/c7bca39b23aae45cd2e85ad3871c81eccc63b9c5276e926511e2e5b0879d/tensorflow_gpu-2.1.0-cp36-cp36m-manylinux2010_x86_64.whl (421.8MB)\n",
            "\u001b[K     |████████████████████████████████| 421.8MB 24kB/s \n",
            "\u001b[?25hCollecting opencv-python==4.1.1.26\n",
            "\u001b[?25l  Downloading https://files.pythonhosted.org/packages/5e/7e/bd5425f4dacb73367fddc71388a47c1ea570839197c2bcad86478e565186/opencv_python-4.1.1.26-cp36-cp36m-manylinux1_x86_64.whl (28.7MB)\n",
            "\u001b[K     |████████████████████████████████| 28.7MB 110kB/s \n",
            "\u001b[?25hRequirement already satisfied: lxml in /usr/local/lib/python3.6/dist-packages (from -r requirements-gpu.txt (line 3)) (4.2.6)\n",
            "Requirement already satisfied: tqdm in /usr/local/lib/python3.6/dist-packages (from -r requirements-gpu.txt (line 4)) (4.41.1)\n",
            "Requirement already satisfied: astor>=0.6.0 in /usr/local/lib/python3.6/dist-packages (from tensorflow-gpu==2.1.0->-r requirements-gpu.txt (line 1)) (0.8.1)\n",
            "Collecting gast==0.2.2\n",
            "  Downloading https://files.pythonhosted.org/packages/4e/35/11749bf99b2d4e3cceb4d55ca22590b0d7c2c62b9de38ac4a4a7f4687421/gast-0.2.2.tar.gz\n",
            "Requirement already satisfied: termcolor>=1.1.0 in /usr/local/lib/python3.6/dist-packages (from tensorflow-gpu==2.1.0->-r requirements-gpu.txt (line 1)) (1.1.0)\n",
            "Requirement already satisfied: six>=1.12.0 in /usr/local/lib/python3.6/dist-packages (from tensorflow-gpu==2.1.0->-r requirements-gpu.txt (line 1)) (1.15.0)\n",
            "Collecting tensorboard<2.2.0,>=2.1.0\n",
            "\u001b[?25l  Downloading https://files.pythonhosted.org/packages/d9/41/bbf49b61370e4f4d245d4c6051dfb6db80cec672605c91b1652ac8cc3d38/tensorboard-2.1.1-py3-none-any.whl (3.8MB)\n",
            "\u001b[K     |████████████████████████████████| 3.9MB 49.3MB/s \n",
            "\u001b[?25hRequirement already satisfied: keras-preprocessing>=1.1.0 in /usr/local/lib/python3.6/dist-packages (from tensorflow-gpu==2.1.0->-r requirements-gpu.txt (line 1)) (1.1.2)\n",
            "Collecting keras-applications>=1.0.8\n",
            "\u001b[?25l  Downloading https://files.pythonhosted.org/packages/71/e3/19762fdfc62877ae9102edf6342d71b28fbfd9dea3d2f96a882ce099b03f/Keras_Applications-1.0.8-py3-none-any.whl (50kB)\n",
            "\u001b[K     |████████████████████████████████| 51kB 8.4MB/s \n",
            "\u001b[?25hRequirement already satisfied: opt-einsum>=2.3.2 in /usr/local/lib/python3.6/dist-packages (from tensorflow-gpu==2.1.0->-r requirements-gpu.txt (line 1)) (3.3.0)\n",
            "Collecting tensorflow-estimator<2.2.0,>=2.1.0rc0\n",
            "\u001b[?25l  Downloading https://files.pythonhosted.org/packages/18/90/b77c328a1304437ab1310b463e533fa7689f4bfc41549593056d812fab8e/tensorflow_estimator-2.1.0-py2.py3-none-any.whl (448kB)\n",
            "\u001b[K     |████████████████████████████████| 450kB 48.9MB/s \n",
            "\u001b[?25hRequirement already satisfied: numpy<2.0,>=1.16.0 in /usr/local/lib/python3.6/dist-packages (from tensorflow-gpu==2.1.0->-r requirements-gpu.txt (line 1)) (1.18.5)\n",
            "Requirement already satisfied: wheel>=0.26; python_version >= \"3\" in /usr/local/lib/python3.6/dist-packages (from tensorflow-gpu==2.1.0->-r requirements-gpu.txt (line 1)) (0.35.1)\n",
            "Requirement already satisfied: absl-py>=0.7.0 in /usr/local/lib/python3.6/dist-packages (from tensorflow-gpu==2.1.0->-r requirements-gpu.txt (line 1)) (0.8.1)\n",
            "Requirement already satisfied: grpcio>=1.8.6 in /usr/local/lib/python3.6/dist-packages (from tensorflow-gpu==2.1.0->-r requirements-gpu.txt (line 1)) (1.31.0)\n",
            "Requirement already satisfied: protobuf>=3.8.0 in /usr/local/lib/python3.6/dist-packages (from tensorflow-gpu==2.1.0->-r requirements-gpu.txt (line 1)) (3.12.4)\n",
            "Requirement already satisfied: scipy==1.4.1; python_version >= \"3\" in /usr/local/lib/python3.6/dist-packages (from tensorflow-gpu==2.1.0->-r requirements-gpu.txt (line 1)) (1.4.1)\n",
            "Requirement already satisfied: google-pasta>=0.1.6 in /usr/local/lib/python3.6/dist-packages (from tensorflow-gpu==2.1.0->-r requirements-gpu.txt (line 1)) (0.2.0)\n",
            "Requirement already satisfied: wrapt>=1.11.1 in /usr/local/lib/python3.6/dist-packages (from tensorflow-gpu==2.1.0->-r requirements-gpu.txt (line 1)) (1.12.1)\n",
            "Requirement already satisfied: google-auth<2,>=1.6.3 in /usr/local/lib/python3.6/dist-packages (from tensorboard<2.2.0,>=2.1.0->tensorflow-gpu==2.1.0->-r requirements-gpu.txt (line 1)) (1.17.2)\n",
            "Requirement already satisfied: requests<3,>=2.21.0 in /usr/local/lib/python3.6/dist-packages (from tensorboard<2.2.0,>=2.1.0->tensorflow-gpu==2.1.0->-r requirements-gpu.txt (line 1)) (2.23.0)\n",
            "Requirement already satisfied: google-auth-oauthlib<0.5,>=0.4.1 in /usr/local/lib/python3.6/dist-packages (from tensorboard<2.2.0,>=2.1.0->tensorflow-gpu==2.1.0->-r requirements-gpu.txt (line 1)) (0.4.1)\n",
            "Requirement already satisfied: werkzeug>=0.11.15 in /usr/local/lib/python3.6/dist-packages (from tensorboard<2.2.0,>=2.1.0->tensorflow-gpu==2.1.0->-r requirements-gpu.txt (line 1)) (1.0.1)\n",
            "Requirement already satisfied: setuptools>=41.0.0 in /usr/local/lib/python3.6/dist-packages (from tensorboard<2.2.0,>=2.1.0->tensorflow-gpu==2.1.0->-r requirements-gpu.txt (line 1)) (49.6.0)\n",
            "Requirement already satisfied: markdown>=2.6.8 in /usr/local/lib/python3.6/dist-packages (from tensorboard<2.2.0,>=2.1.0->tensorflow-gpu==2.1.0->-r requirements-gpu.txt (line 1)) (3.2.2)\n",
            "Requirement already satisfied: h5py in /usr/local/lib/python3.6/dist-packages (from keras-applications>=1.0.8->tensorflow-gpu==2.1.0->-r requirements-gpu.txt (line 1)) (2.10.0)\n",
            "Requirement already satisfied: pyasn1-modules>=0.2.1 in /usr/local/lib/python3.6/dist-packages (from google-auth<2,>=1.6.3->tensorboard<2.2.0,>=2.1.0->tensorflow-gpu==2.1.0->-r requirements-gpu.txt (line 1)) (0.2.8)\n",
            "Requirement already satisfied: rsa<5,>=3.1.4; python_version >= \"3\" in /usr/local/lib/python3.6/dist-packages (from google-auth<2,>=1.6.3->tensorboard<2.2.0,>=2.1.0->tensorflow-gpu==2.1.0->-r requirements-gpu.txt (line 1)) (4.6)\n",
            "Requirement already satisfied: cachetools<5.0,>=2.0.0 in /usr/local/lib/python3.6/dist-packages (from google-auth<2,>=1.6.3->tensorboard<2.2.0,>=2.1.0->tensorflow-gpu==2.1.0->-r requirements-gpu.txt (line 1)) (4.1.1)\n",
            "Requirement already satisfied: certifi>=2017.4.17 in /usr/local/lib/python3.6/dist-packages (from requests<3,>=2.21.0->tensorboard<2.2.0,>=2.1.0->tensorflow-gpu==2.1.0->-r requirements-gpu.txt (line 1)) (2020.6.20)\n",
            "Requirement already satisfied: idna<3,>=2.5 in /usr/local/lib/python3.6/dist-packages (from requests<3,>=2.21.0->tensorboard<2.2.0,>=2.1.0->tensorflow-gpu==2.1.0->-r requirements-gpu.txt (line 1)) (2.10)\n",
            "Requirement already satisfied: urllib3!=1.25.0,!=1.25.1,<1.26,>=1.21.1 in /usr/local/lib/python3.6/dist-packages (from requests<3,>=2.21.0->tensorboard<2.2.0,>=2.1.0->tensorflow-gpu==2.1.0->-r requirements-gpu.txt (line 1)) (1.24.3)\n",
            "Requirement already satisfied: chardet<4,>=3.0.2 in /usr/local/lib/python3.6/dist-packages (from requests<3,>=2.21.0->tensorboard<2.2.0,>=2.1.0->tensorflow-gpu==2.1.0->-r requirements-gpu.txt (line 1)) (3.0.4)\n",
            "Requirement already satisfied: requests-oauthlib>=0.7.0 in /usr/local/lib/python3.6/dist-packages (from google-auth-oauthlib<0.5,>=0.4.1->tensorboard<2.2.0,>=2.1.0->tensorflow-gpu==2.1.0->-r requirements-gpu.txt (line 1)) (1.3.0)\n",
            "Requirement already satisfied: importlib-metadata; python_version < \"3.8\" in /usr/local/lib/python3.6/dist-packages (from markdown>=2.6.8->tensorboard<2.2.0,>=2.1.0->tensorflow-gpu==2.1.0->-r requirements-gpu.txt (line 1)) (1.7.0)\n",
            "Requirement already satisfied: pyasn1<0.5.0,>=0.4.6 in /usr/local/lib/python3.6/dist-packages (from pyasn1-modules>=0.2.1->google-auth<2,>=1.6.3->tensorboard<2.2.0,>=2.1.0->tensorflow-gpu==2.1.0->-r requirements-gpu.txt (line 1)) (0.4.8)\n",
            "Requirement already satisfied: oauthlib>=3.0.0 in /usr/local/lib/python3.6/dist-packages (from requests-oauthlib>=0.7.0->google-auth-oauthlib<0.5,>=0.4.1->tensorboard<2.2.0,>=2.1.0->tensorflow-gpu==2.1.0->-r requirements-gpu.txt (line 1)) (3.1.0)\n",
            "Requirement already satisfied: zipp>=0.5 in /usr/local/lib/python3.6/dist-packages (from importlib-metadata; python_version < \"3.8\"->markdown>=2.6.8->tensorboard<2.2.0,>=2.1.0->tensorflow-gpu==2.1.0->-r requirements-gpu.txt (line 1)) (3.1.0)\n",
            "Building wheels for collected packages: gast\n",
            "  Building wheel for gast (setup.py) ... \u001b[?25l\u001b[?25hdone\n",
            "  Created wheel for gast: filename=gast-0.2.2-cp36-none-any.whl size=7542 sha256=7ae92c51237602107790632ede43709fbfddaafc237763282c380eff3ff33e91\n",
            "  Stored in directory: /root/.cache/pip/wheels/5c/2e/7e/a1d4d4fcebe6c381f378ce7743a3ced3699feb89bcfbdadadd\n",
            "Successfully built gast\n",
            "\u001b[31mERROR: tensorflow 2.3.0 has requirement gast==0.3.3, but you'll have gast 0.2.2 which is incompatible.\u001b[0m\n",
            "\u001b[31mERROR: tensorflow 2.3.0 has requirement tensorboard<3,>=2.3.0, but you'll have tensorboard 2.1.1 which is incompatible.\u001b[0m\n",
            "\u001b[31mERROR: tensorflow 2.3.0 has requirement tensorflow-estimator<2.4.0,>=2.3.0, but you'll have tensorflow-estimator 2.1.0 which is incompatible.\u001b[0m\n",
            "\u001b[31mERROR: tensorflow-probability 0.11.0 has requirement gast>=0.3.2, but you'll have gast 0.2.2 which is incompatible.\u001b[0m\n",
            "\u001b[31mERROR: albumentations 0.1.12 has requirement imgaug<0.2.7,>=0.2.5, but you'll have imgaug 0.2.9 which is incompatible.\u001b[0m\n",
            "Installing collected packages: gast, tensorboard, keras-applications, tensorflow-estimator, tensorflow-gpu, opencv-python, yolov3-tf2\n",
            "  Found existing installation: gast 0.3.3\n",
            "    Uninstalling gast-0.3.3:\n",
            "      Successfully uninstalled gast-0.3.3\n",
            "  Found existing installation: tensorboard 2.3.0\n",
            "    Uninstalling tensorboard-2.3.0:\n",
            "      Successfully uninstalled tensorboard-2.3.0\n",
            "  Found existing installation: tensorflow-estimator 2.3.0\n",
            "    Uninstalling tensorflow-estimator-2.3.0:\n",
            "      Successfully uninstalled tensorflow-estimator-2.3.0\n",
            "  Found existing installation: opencv-python 4.1.2.30\n",
            "    Uninstalling opencv-python-4.1.2.30:\n",
            "      Successfully uninstalled opencv-python-4.1.2.30\n",
            "  Running setup.py develop for yolov3-tf2\n",
            "Successfully installed gast-0.2.2 keras-applications-1.0.8 opencv-python-4.1.1.26 tensorboard-2.1.1 tensorflow-estimator-2.1.0 tensorflow-gpu-2.1.0 yolov3-tf2\n"
          ],
          "name": "stdout"
        }
      ]
    },
    {
      "cell_type": "code",
      "metadata": {
        "id": "WB0EG-X0yGjo",
        "colab_type": "code",
        "colab": {
          "base_uri": "https://localhost:8080/",
          "height": 133
        },
        "outputId": "176bdf44-4a46-419a-fcf1-83925cc6ab33"
      },
      "source": [
        "%cd yolov3-tf2/\n",
        "!ls"
      ],
      "execution_count": 2,
      "outputs": [
        {
          "output_type": "stream",
          "text": [
            "[Errno 2] No such file or directory: 'yolov3-tf2/'\n",
            "/content/yolov3-tf2\n",
            "checkpoints\t data\t\t  README.md\t\ttrain.py\n",
            "colab_gpu.ipynb  detect.py\t  requirements-gpu.txt\tyolov3_tf2\n",
            "conda-cpu.yml\t detect_video.py  requirements.txt\tyolov3_tf2.egg-info\n",
            "conda-gpu.yml\t docs\t\t  setup.py\n",
            "convert.py\t LICENSE\t  tools\n"
          ],
          "name": "stdout"
        }
      ]
    },
    {
      "cell_type": "code",
      "metadata": {
        "id": "7HC7OJKbySa5",
        "colab_type": "code",
        "colab": {
          "base_uri": "https://localhost:8080/",
          "height": 35
        },
        "outputId": "b7bf5c66-7f94-4e7d-f252-706981a9de08"
      },
      "source": [
        "import tensorflow as tf\n",
        "tf.__version__"
      ],
      "execution_count": 3,
      "outputs": [
        {
          "output_type": "execute_result",
          "data": {
            "application/vnd.google.colaboratory.intrinsic+json": {
              "type": "string"
            },
            "text/plain": [
              "'2.1.0'"
            ]
          },
          "metadata": {
            "tags": []
          },
          "execution_count": 3
        }
      ]
    },
    {
      "cell_type": "code",
      "metadata": {
        "id": "pon0XQ-qypzB",
        "colab_type": "code",
        "colab": {
          "base_uri": "https://localhost:8080/",
          "height": 1000
        },
        "outputId": "cb2b2793-fe34-499b-d5f1-8317c8691fe5"
      },
      "source": [
        "!wget https://pjreddie.com/media/files/yolov3.weights -O data/yolov3.weights\n",
        "!python convert.py"
      ],
      "execution_count": 4,
      "outputs": [
        {
          "output_type": "stream",
          "text": [
            "--2020-08-31 18:35:00--  https://pjreddie.com/media/files/yolov3.weights\n",
            "Resolving pjreddie.com (pjreddie.com)... 128.208.4.108\n",
            "Connecting to pjreddie.com (pjreddie.com)|128.208.4.108|:443... connected.\n",
            "HTTP request sent, awaiting response... 200 OK\n",
            "Length: 248007048 (237M) [application/octet-stream]\n",
            "Saving to: ‘data/yolov3.weights’\n",
            "\n",
            "data/yolov3.weights 100%[===================>] 236.52M   349KB/s    in 13m 37s \n",
            "\n",
            "2020-08-31 18:48:37 (297 KB/s) - ‘data/yolov3.weights’ saved [248007048/248007048]\n",
            "\n",
            "2020-08-31 18:48:39.062920: W tensorflow/stream_executor/platform/default/dso_loader.cc:55] Could not load dynamic library 'libnvinfer.so.6'; dlerror: libnvinfer.so.6: cannot open shared object file: No such file or directory; LD_LIBRARY_PATH: /usr/lib64-nvidia\n",
            "2020-08-31 18:48:39.063024: W tensorflow/stream_executor/platform/default/dso_loader.cc:55] Could not load dynamic library 'libnvinfer_plugin.so.6'; dlerror: libnvinfer_plugin.so.6: cannot open shared object file: No such file or directory; LD_LIBRARY_PATH: /usr/lib64-nvidia\n",
            "2020-08-31 18:48:39.063042: W tensorflow/compiler/tf2tensorrt/utils/py_utils.cc:30] Cannot dlopen some TensorRT libraries. If you would like to use Nvidia GPU with TensorRT, please make sure the missing libraries mentioned above are installed properly.\n",
            "2020-08-31 18:48:39.903524: I tensorflow/stream_executor/platform/default/dso_loader.cc:44] Successfully opened dynamic library libcuda.so.1\n",
            "2020-08-31 18:48:39.969916: I tensorflow/stream_executor/cuda/cuda_gpu_executor.cc:981] successful NUMA node read from SysFS had negative value (-1), but there must be at least one NUMA node, so returning NUMA node zero\n",
            "2020-08-31 18:48:39.970499: I tensorflow/core/common_runtime/gpu/gpu_device.cc:1555] Found device 0 with properties: \n",
            "pciBusID: 0000:00:04.0 name: Tesla T4 computeCapability: 7.5\n",
            "coreClock: 1.59GHz coreCount: 40 deviceMemorySize: 14.73GiB deviceMemoryBandwidth: 298.08GiB/s\n",
            "2020-08-31 18:48:39.970814: I tensorflow/stream_executor/platform/default/dso_loader.cc:44] Successfully opened dynamic library libcudart.so.10.1\n",
            "2020-08-31 18:48:40.219697: I tensorflow/stream_executor/platform/default/dso_loader.cc:44] Successfully opened dynamic library libcublas.so.10\n",
            "2020-08-31 18:48:40.346724: I tensorflow/stream_executor/platform/default/dso_loader.cc:44] Successfully opened dynamic library libcufft.so.10\n",
            "2020-08-31 18:48:40.377531: I tensorflow/stream_executor/platform/default/dso_loader.cc:44] Successfully opened dynamic library libcurand.so.10\n",
            "2020-08-31 18:48:40.641566: I tensorflow/stream_executor/platform/default/dso_loader.cc:44] Successfully opened dynamic library libcusolver.so.10\n",
            "2020-08-31 18:48:40.683849: I tensorflow/stream_executor/platform/default/dso_loader.cc:44] Successfully opened dynamic library libcusparse.so.10\n",
            "2020-08-31 18:48:41.205040: I tensorflow/stream_executor/platform/default/dso_loader.cc:44] Successfully opened dynamic library libcudnn.so.7\n",
            "2020-08-31 18:48:41.205252: I tensorflow/stream_executor/cuda/cuda_gpu_executor.cc:981] successful NUMA node read from SysFS had negative value (-1), but there must be at least one NUMA node, so returning NUMA node zero\n",
            "2020-08-31 18:48:41.205941: I tensorflow/stream_executor/cuda/cuda_gpu_executor.cc:981] successful NUMA node read from SysFS had negative value (-1), but there must be at least one NUMA node, so returning NUMA node zero\n",
            "2020-08-31 18:48:41.206512: I tensorflow/core/common_runtime/gpu/gpu_device.cc:1697] Adding visible gpu devices: 0\n",
            "2020-08-31 18:48:41.219541: I tensorflow/core/platform/cpu_feature_guard.cc:142] Your CPU supports instructions that this TensorFlow binary was not compiled to use: AVX2 FMA\n",
            "2020-08-31 18:48:41.224811: I tensorflow/core/platform/profile_utils/cpu_utils.cc:94] CPU Frequency: 2200000000 Hz\n",
            "2020-08-31 18:48:41.225004: I tensorflow/compiler/xla/service/service.cc:168] XLA service 0x176c840 initialized for platform Host (this does not guarantee that XLA will be used). Devices:\n",
            "2020-08-31 18:48:41.225031: I tensorflow/compiler/xla/service/service.cc:176]   StreamExecutor device (0): Host, Default Version\n",
            "2020-08-31 18:48:41.367344: I tensorflow/stream_executor/cuda/cuda_gpu_executor.cc:981] successful NUMA node read from SysFS had negative value (-1), but there must be at least one NUMA node, so returning NUMA node zero\n",
            "2020-08-31 18:48:41.368136: I tensorflow/compiler/xla/service/service.cc:168] XLA service 0x176ca00 initialized for platform CUDA (this does not guarantee that XLA will be used). Devices:\n",
            "2020-08-31 18:48:41.368188: I tensorflow/compiler/xla/service/service.cc:176]   StreamExecutor device (0): Tesla T4, Compute Capability 7.5\n",
            "2020-08-31 18:48:41.369243: I tensorflow/stream_executor/cuda/cuda_gpu_executor.cc:981] successful NUMA node read from SysFS had negative value (-1), but there must be at least one NUMA node, so returning NUMA node zero\n",
            "2020-08-31 18:48:41.369821: I tensorflow/core/common_runtime/gpu/gpu_device.cc:1555] Found device 0 with properties: \n",
            "pciBusID: 0000:00:04.0 name: Tesla T4 computeCapability: 7.5\n",
            "coreClock: 1.59GHz coreCount: 40 deviceMemorySize: 14.73GiB deviceMemoryBandwidth: 298.08GiB/s\n",
            "2020-08-31 18:48:41.369886: I tensorflow/stream_executor/platform/default/dso_loader.cc:44] Successfully opened dynamic library libcudart.so.10.1\n",
            "2020-08-31 18:48:41.369916: I tensorflow/stream_executor/platform/default/dso_loader.cc:44] Successfully opened dynamic library libcublas.so.10\n",
            "2020-08-31 18:48:41.369939: I tensorflow/stream_executor/platform/default/dso_loader.cc:44] Successfully opened dynamic library libcufft.so.10\n",
            "2020-08-31 18:48:41.369965: I tensorflow/stream_executor/platform/default/dso_loader.cc:44] Successfully opened dynamic library libcurand.so.10\n",
            "2020-08-31 18:48:41.370007: I tensorflow/stream_executor/platform/default/dso_loader.cc:44] Successfully opened dynamic library libcusolver.so.10\n",
            "2020-08-31 18:48:41.370026: I tensorflow/stream_executor/platform/default/dso_loader.cc:44] Successfully opened dynamic library libcusparse.so.10\n",
            "2020-08-31 18:48:41.370048: I tensorflow/stream_executor/platform/default/dso_loader.cc:44] Successfully opened dynamic library libcudnn.so.7\n",
            "2020-08-31 18:48:41.370138: I tensorflow/stream_executor/cuda/cuda_gpu_executor.cc:981] successful NUMA node read from SysFS had negative value (-1), but there must be at least one NUMA node, so returning NUMA node zero\n",
            "2020-08-31 18:48:41.370728: I tensorflow/stream_executor/cuda/cuda_gpu_executor.cc:981] successful NUMA node read from SysFS had negative value (-1), but there must be at least one NUMA node, so returning NUMA node zero\n",
            "2020-08-31 18:48:41.371294: I tensorflow/core/common_runtime/gpu/gpu_device.cc:1697] Adding visible gpu devices: 0\n",
            "2020-08-31 18:48:41.371366: I tensorflow/stream_executor/platform/default/dso_loader.cc:44] Successfully opened dynamic library libcudart.so.10.1\n",
            "2020-08-31 18:48:41.372698: I tensorflow/core/common_runtime/gpu/gpu_device.cc:1096] Device interconnect StreamExecutor with strength 1 edge matrix:\n",
            "2020-08-31 18:48:41.372738: I tensorflow/core/common_runtime/gpu/gpu_device.cc:1102]      0 \n",
            "2020-08-31 18:48:41.372758: I tensorflow/core/common_runtime/gpu/gpu_device.cc:1115] 0:   N \n",
            "2020-08-31 18:48:41.372917: I tensorflow/stream_executor/cuda/cuda_gpu_executor.cc:981] successful NUMA node read from SysFS had negative value (-1), but there must be at least one NUMA node, so returning NUMA node zero\n",
            "2020-08-31 18:48:41.373731: I tensorflow/stream_executor/cuda/cuda_gpu_executor.cc:981] successful NUMA node read from SysFS had negative value (-1), but there must be at least one NUMA node, so returning NUMA node zero\n",
            "2020-08-31 18:48:41.374356: I tensorflow/core/common_runtime/gpu/gpu_device.cc:1241] Created TensorFlow device (/job:localhost/replica:0/task:0/device:GPU:0 with 14221 MB memory) -> physical GPU (device: 0, name: Tesla T4, pci bus id: 0000:00:04.0, compute capability: 7.5)\n",
            "Model: \"yolov3\"\n",
            "__________________________________________________________________________________________________\n",
            "Layer (type)                    Output Shape         Param #     Connected to                     \n",
            "==================================================================================================\n",
            "input (InputLayer)              [(None, None, None,  0                                            \n",
            "__________________________________________________________________________________________________\n",
            "yolo_darknet (Model)            ((None, None, None,  40620640    input[0][0]                      \n",
            "__________________________________________________________________________________________________\n",
            "yolo_conv_0 (Model)             (None, None, None, 5 11024384    yolo_darknet[1][2]               \n",
            "__________________________________________________________________________________________________\n",
            "yolo_conv_1 (Model)             (None, None, None, 2 2957312     yolo_conv_0[1][0]                \n",
            "                                                                 yolo_darknet[1][1]               \n",
            "__________________________________________________________________________________________________\n",
            "yolo_conv_2 (Model)             (None, None, None, 1 741376      yolo_conv_1[1][0]                \n",
            "                                                                 yolo_darknet[1][0]               \n",
            "__________________________________________________________________________________________________\n",
            "yolo_output_0 (Model)           (None, None, None, 3 4984063     yolo_conv_0[1][0]                \n",
            "__________________________________________________________________________________________________\n",
            "yolo_output_1 (Model)           (None, None, None, 3 1312511     yolo_conv_1[1][0]                \n",
            "__________________________________________________________________________________________________\n",
            "yolo_output_2 (Model)           (None, None, None, 3 361471      yolo_conv_2[1][0]                \n",
            "__________________________________________________________________________________________________\n",
            "yolo_boxes_0 (Lambda)           ((None, None, None,  0           yolo_output_0[1][0]              \n",
            "__________________________________________________________________________________________________\n",
            "yolo_boxes_1 (Lambda)           ((None, None, None,  0           yolo_output_1[1][0]              \n",
            "__________________________________________________________________________________________________\n",
            "yolo_boxes_2 (Lambda)           ((None, None, None,  0           yolo_output_2[1][0]              \n",
            "__________________________________________________________________________________________________\n",
            "yolo_nms (Lambda)               ((None, 100, 4), (No 0           yolo_boxes_0[0][0]               \n",
            "                                                                 yolo_boxes_0[0][1]               \n",
            "                                                                 yolo_boxes_0[0][2]               \n",
            "                                                                 yolo_boxes_1[0][0]               \n",
            "                                                                 yolo_boxes_1[0][1]               \n",
            "                                                                 yolo_boxes_1[0][2]               \n",
            "                                                                 yolo_boxes_2[0][0]               \n",
            "                                                                 yolo_boxes_2[0][1]               \n",
            "                                                                 yolo_boxes_2[0][2]               \n",
            "==================================================================================================\n",
            "Total params: 62,001,757\n",
            "Trainable params: 61,949,149\n",
            "Non-trainable params: 52,608\n",
            "__________________________________________________________________________________________________\n",
            "I0831 18:48:46.342020 140655329929088 convert.py:24] model created\n",
            "I0831 18:48:46.343851 140655329929088 utils.py:45] yolo_darknet/conv2d bn\n",
            "I0831 18:48:46.347530 140655329929088 utils.py:45] yolo_darknet/conv2d_1 bn\n",
            "I0831 18:48:46.350411 140655329929088 utils.py:45] yolo_darknet/conv2d_2 bn\n",
            "I0831 18:48:46.353159 140655329929088 utils.py:45] yolo_darknet/conv2d_3 bn\n",
            "I0831 18:48:46.355958 140655329929088 utils.py:45] yolo_darknet/conv2d_4 bn\n",
            "I0831 18:48:46.359300 140655329929088 utils.py:45] yolo_darknet/conv2d_5 bn\n",
            "I0831 18:48:46.361923 140655329929088 utils.py:45] yolo_darknet/conv2d_6 bn\n",
            "I0831 18:48:46.364950 140655329929088 utils.py:45] yolo_darknet/conv2d_7 bn\n",
            "I0831 18:48:46.367869 140655329929088 utils.py:45] yolo_darknet/conv2d_8 bn\n",
            "I0831 18:48:46.370935 140655329929088 utils.py:45] yolo_darknet/conv2d_9 bn\n",
            "I0831 18:48:46.375853 140655329929088 utils.py:45] yolo_darknet/conv2d_10 bn\n",
            "I0831 18:48:46.378909 140655329929088 utils.py:45] yolo_darknet/conv2d_11 bn\n",
            "I0831 18:48:46.383138 140655329929088 utils.py:45] yolo_darknet/conv2d_12 bn\n",
            "I0831 18:48:46.386052 140655329929088 utils.py:45] yolo_darknet/conv2d_13 bn\n",
            "I0831 18:48:46.390023 140655329929088 utils.py:45] yolo_darknet/conv2d_14 bn\n",
            "I0831 18:48:46.392805 140655329929088 utils.py:45] yolo_darknet/conv2d_15 bn\n",
            "I0831 18:48:46.396910 140655329929088 utils.py:45] yolo_darknet/conv2d_16 bn\n",
            "I0831 18:48:46.399713 140655329929088 utils.py:45] yolo_darknet/conv2d_17 bn\n",
            "I0831 18:48:46.403593 140655329929088 utils.py:45] yolo_darknet/conv2d_18 bn\n",
            "I0831 18:48:46.406910 140655329929088 utils.py:45] yolo_darknet/conv2d_19 bn\n",
            "I0831 18:48:46.410822 140655329929088 utils.py:45] yolo_darknet/conv2d_20 bn\n",
            "I0831 18:48:46.413507 140655329929088 utils.py:45] yolo_darknet/conv2d_21 bn\n",
            "I0831 18:48:46.417380 140655329929088 utils.py:45] yolo_darknet/conv2d_22 bn\n",
            "I0831 18:48:46.420161 140655329929088 utils.py:45] yolo_darknet/conv2d_23 bn\n",
            "I0831 18:48:46.424096 140655329929088 utils.py:45] yolo_darknet/conv2d_24 bn\n",
            "I0831 18:48:46.426894 140655329929088 utils.py:45] yolo_darknet/conv2d_25 bn\n",
            "I0831 18:48:46.430893 140655329929088 utils.py:45] yolo_darknet/conv2d_26 bn\n",
            "I0831 18:48:46.441231 140655329929088 utils.py:45] yolo_darknet/conv2d_27 bn\n",
            "I0831 18:48:46.444646 140655329929088 utils.py:45] yolo_darknet/conv2d_28 bn\n",
            "I0831 18:48:46.452543 140655329929088 utils.py:45] yolo_darknet/conv2d_29 bn\n",
            "I0831 18:48:46.455766 140655329929088 utils.py:45] yolo_darknet/conv2d_30 bn\n",
            "I0831 18:48:46.464195 140655329929088 utils.py:45] yolo_darknet/conv2d_31 bn\n",
            "I0831 18:48:46.467735 140655329929088 utils.py:45] yolo_darknet/conv2d_32 bn\n",
            "I0831 18:48:46.475781 140655329929088 utils.py:45] yolo_darknet/conv2d_33 bn\n",
            "I0831 18:48:46.479140 140655329929088 utils.py:45] yolo_darknet/conv2d_34 bn\n",
            "I0831 18:48:46.487349 140655329929088 utils.py:45] yolo_darknet/conv2d_35 bn\n",
            "I0831 18:48:46.490706 140655329929088 utils.py:45] yolo_darknet/conv2d_36 bn\n",
            "I0831 18:48:46.498697 140655329929088 utils.py:45] yolo_darknet/conv2d_37 bn\n",
            "I0831 18:48:46.501962 140655329929088 utils.py:45] yolo_darknet/conv2d_38 bn\n",
            "I0831 18:48:46.510293 140655329929088 utils.py:45] yolo_darknet/conv2d_39 bn\n",
            "I0831 18:48:46.513536 140655329929088 utils.py:45] yolo_darknet/conv2d_40 bn\n",
            "I0831 18:48:46.521448 140655329929088 utils.py:45] yolo_darknet/conv2d_41 bn\n",
            "I0831 18:48:46.524775 140655329929088 utils.py:45] yolo_darknet/conv2d_42 bn\n",
            "I0831 18:48:46.532628 140655329929088 utils.py:45] yolo_darknet/conv2d_43 bn\n",
            "I0831 18:48:46.573925 140655329929088 utils.py:45] yolo_darknet/conv2d_44 bn\n",
            "I0831 18:48:46.580767 140655329929088 utils.py:45] yolo_darknet/conv2d_45 bn\n",
            "I0831 18:48:46.616554 140655329929088 utils.py:45] yolo_darknet/conv2d_46 bn\n",
            "I0831 18:48:46.623349 140655329929088 utils.py:45] yolo_darknet/conv2d_47 bn\n",
            "I0831 18:48:46.655891 140655329929088 utils.py:45] yolo_darknet/conv2d_48 bn\n",
            "I0831 18:48:46.662607 140655329929088 utils.py:45] yolo_darknet/conv2d_49 bn\n",
            "I0831 18:48:46.694276 140655329929088 utils.py:45] yolo_darknet/conv2d_50 bn\n",
            "I0831 18:48:46.700799 140655329929088 utils.py:45] yolo_darknet/conv2d_51 bn\n",
            "I0831 18:48:46.731623 140655329929088 utils.py:45] yolo_conv_0/conv2d_52 bn\n",
            "I0831 18:48:46.737276 140655329929088 utils.py:45] yolo_conv_0/conv2d_53 bn\n",
            "I0831 18:48:46.767468 140655329929088 utils.py:45] yolo_conv_0/conv2d_54 bn\n",
            "I0831 18:48:46.773049 140655329929088 utils.py:45] yolo_conv_0/conv2d_55 bn\n",
            "I0831 18:48:46.804359 140655329929088 utils.py:45] yolo_conv_0/conv2d_56 bn\n",
            "I0831 18:48:46.815351 140655329929088 utils.py:45] yolo_output_0/conv2d_57 bn\n",
            "I0831 18:48:46.848625 140655329929088 utils.py:45] yolo_output_0/conv2d_58 bias\n",
            "I0831 18:48:46.851248 140655329929088 utils.py:45] yolo_conv_1/conv2d_59 bn\n",
            "I0831 18:48:46.853829 140655329929088 utils.py:45] yolo_conv_1/conv2d_60 bn\n",
            "I0831 18:48:46.856451 140655329929088 utils.py:45] yolo_conv_1/conv2d_61 bn\n",
            "I0831 18:48:46.863946 140655329929088 utils.py:45] yolo_conv_1/conv2d_62 bn\n",
            "I0831 18:48:46.866468 140655329929088 utils.py:45] yolo_conv_1/conv2d_63 bn\n",
            "I0831 18:48:46.873657 140655329929088 utils.py:45] yolo_conv_1/conv2d_64 bn\n",
            "I0831 18:48:46.875975 140655329929088 utils.py:45] yolo_output_1/conv2d_65 bn\n",
            "I0831 18:48:46.882997 140655329929088 utils.py:45] yolo_output_1/conv2d_66 bias\n",
            "I0831 18:48:46.884674 140655329929088 utils.py:45] yolo_conv_2/conv2d_67 bn\n",
            "I0831 18:48:46.886647 140655329929088 utils.py:45] yolo_conv_2/conv2d_68 bn\n",
            "I0831 18:48:46.888647 140655329929088 utils.py:45] yolo_conv_2/conv2d_69 bn\n",
            "I0831 18:48:46.891985 140655329929088 utils.py:45] yolo_conv_2/conv2d_70 bn\n",
            "I0831 18:48:46.893982 140655329929088 utils.py:45] yolo_conv_2/conv2d_71 bn\n",
            "I0831 18:48:46.897294 140655329929088 utils.py:45] yolo_conv_2/conv2d_72 bn\n",
            "I0831 18:48:46.899167 140655329929088 utils.py:45] yolo_output_2/conv2d_73 bn\n",
            "I0831 18:48:46.902444 140655329929088 utils.py:45] yolo_output_2/conv2d_74 bias\n",
            "I0831 18:48:46.903632 140655329929088 convert.py:27] weights loaded\n",
            "2020-08-31 18:48:46.913538: I tensorflow/stream_executor/platform/default/dso_loader.cc:44] Successfully opened dynamic library libcudnn.so.7\n",
            "2020-08-31 18:48:51.964769: I tensorflow/stream_executor/platform/default/dso_loader.cc:44] Successfully opened dynamic library libcublas.so.10\n",
            "I0831 18:48:54.109771 140655329929088 convert.py:31] sanity check passed\n",
            "I0831 18:48:54.820221 140655329929088 convert.py:34] weights saved\n"
          ],
          "name": "stdout"
        }
      ]
    },
    {
      "cell_type": "code",
      "metadata": {
        "id": "ICRB0JK7ytPS",
        "colab_type": "code",
        "colab": {}
      },
      "source": [
        "# import relevant Libraries.\n",
        "import sys\n",
        "from absl import app, logging, flags\n",
        "from absl.flags import FLAGS\n",
        "import time\n",
        "import cv2\n",
        "import numpy as np\n",
        "import tensorflow as tf\n",
        "from yolov3_tf2.models import (YoloV3, YoloV3Tiny)\n",
        "from yolov3_tf2.dataset import transform_images, load_tfrecord_dataset\n",
        "from yolov3_tf2.utils import draw_outputs"
      ],
      "execution_count": 5,
      "outputs": []
    },
    {
      "cell_type": "code",
      "metadata": {
        "id": "G4iSRPxN0p5n",
        "colab_type": "code",
        "colab": {}
      },
      "source": [
        "flags.DEFINE_string('classes', './data/coco.names', 'path to classes file')\n",
        "flags.DEFINE_string('weights', './checkpoints/yolov3.tf',\n",
        "                    'path to weights file')\n",
        "flags.DEFINE_boolean('tiny', False, 'yolov3 or yolov3-tiny')\n",
        "flags.DEFINE_integer('size', 416, 'resize images to')\n",
        "flags.DEFINE_string('image', './data/girl.png', 'path to input image')\n",
        "flags.DEFINE_string('tfrecord', None, 'tfrecord instead of image')\n",
        "flags.DEFINE_string('output', './output.jpg', 'path to output image')\n",
        "flags.DEFINE_integer('num_classes', 80, 'number of classes in the model')\n",
        "\n",
        "app._run_init(['yolov3'], app.parse_flags_with_usage)\n",
        "\n",
        "physical_devices = tf.config.experimental.list_physical_devices('GPU')\n",
        "tf.config.experimental.set_memory_growth(physical_devices[0], True)"
      ],
      "execution_count": 6,
      "outputs": []
    },
    {
      "cell_type": "markdown",
      "metadata": {
        "id": "gHk5QzbM4FPT",
        "colab_type": "text"
      },
      "source": [
        "# **Getting the CarConnection Data**\n"
      ]
    },
    {
      "cell_type": "code",
      "metadata": {
        "id": "CjVfrGiQ4Ay_",
        "colab_type": "code",
        "colab": {
          "base_uri": "https://localhost:8080/",
          "height": 352
        },
        "outputId": "a5229ad5-9710-4a92-b0ea-2528895fe587"
      },
      "source": [
        "!pip install pyunpack\n",
        "!pip install patool"
      ],
      "execution_count": 7,
      "outputs": [
        {
          "output_type": "stream",
          "text": [
            "Collecting pyunpack\n",
            "  Downloading https://files.pythonhosted.org/packages/33/fd/4b64817a1d82df78553ceb1bfc5a2d7ac162da8667be586430fab9db5deb/pyunpack-0.2.1-py2.py3-none-any.whl\n",
            "Collecting easyprocess\n",
            "  Downloading https://files.pythonhosted.org/packages/48/3c/75573613641c90c6d094059ac28adb748560d99bd27ee6f80cce398f404e/EasyProcess-0.3-py2.py3-none-any.whl\n",
            "Collecting entrypoint2\n",
            "  Downloading https://files.pythonhosted.org/packages/46/0a/6156f1bc14a44094cff75bb6ecefe1f8e8a12cfff66379ba3d52d0916c49/entrypoint2-0.2.1-py2.py3-none-any.whl\n",
            "Collecting argparse\n",
            "  Downloading https://files.pythonhosted.org/packages/f2/94/3af39d34be01a24a6e65433d19e107099374224905f1e0cc6bbe1fd22a2f/argparse-1.4.0-py2.py3-none-any.whl\n",
            "Installing collected packages: easyprocess, argparse, entrypoint2, pyunpack\n",
            "Successfully installed argparse-1.4.0 easyprocess-0.3 entrypoint2-0.2.1 pyunpack-0.2.1\n"
          ],
          "name": "stdout"
        },
        {
          "output_type": "display_data",
          "data": {
            "application/vnd.colab-display-data+json": {
              "pip_warning": {
                "packages": [
                  "argparse"
                ]
              }
            }
          },
          "metadata": {
            "tags": []
          }
        },
        {
          "output_type": "stream",
          "text": [
            "Collecting patool\n",
            "\u001b[?25l  Downloading https://files.pythonhosted.org/packages/43/94/52243ddff508780dd2d8110964320ab4851134a55ab102285b46e740f76a/patool-1.12-py2.py3-none-any.whl (77kB)\n",
            "\r\u001b[K     |████▎                           | 10kB 24.7MB/s eta 0:00:01\r\u001b[K     |████████▌                       | 20kB 2.9MB/s eta 0:00:01\r\u001b[K     |████████████▊                   | 30kB 3.9MB/s eta 0:00:01\r\u001b[K     |█████████████████               | 40kB 2.9MB/s eta 0:00:01\r\u001b[K     |█████████████████████▏          | 51kB 3.6MB/s eta 0:00:01\r\u001b[K     |█████████████████████████▍      | 61kB 4.1MB/s eta 0:00:01\r\u001b[K     |█████████████████████████████▋  | 71kB 4.5MB/s eta 0:00:01\r\u001b[K     |████████████████████████████████| 81kB 3.7MB/s \n",
            "\u001b[?25hInstalling collected packages: patool\n",
            "Successfully installed patool-1.12\n"
          ],
          "name": "stdout"
        }
      ]
    },
    {
      "cell_type": "code",
      "metadata": {
        "id": "p5ZJZOqF4OeC",
        "colab_type": "code",
        "colab": {}
      },
      "source": [
        "import os\n",
        "import numpy as np\n",
        "import pandas as pd\n",
        "import matplotlib.pyplot as plt\n",
        "import pathlib\n",
        "import random as rn\n",
        "import patoolib\n",
        "from pyunpack import Archive\n",
        "import pickle\n",
        "import datetime\n",
        "from glob import glob\n",
        "from PIL import Image"
      ],
      "execution_count": 8,
      "outputs": []
    },
    {
      "cell_type": "code",
      "metadata": {
        "id": "2cuN6QLr4Ojc",
        "colab_type": "code",
        "colab": {}
      },
      "source": [
        "os.chdir('/content/')\n",
        "path = os.getcwd()\n",
        "direc_train = \"train\"\n",
        "os.mkdir(os.path.join(path,direc_train))"
      ],
      "execution_count": 9,
      "outputs": []
    },
    {
      "cell_type": "code",
      "metadata": {
        "id": "-CZqS2Eq4OnI",
        "colab_type": "code",
        "colab": {
          "base_uri": "https://localhost:8080/",
          "height": 102
        },
        "outputId": "ef2e3919-8145-44c1-a008-5cb7dba9f68f"
      },
      "source": [
        "# Extracting Train\n",
        "patoolib.extract_archive(\"/content/drive/My Drive/Experiments_CarConnection/thecarconnectionpicturedataset.rar\", outdir=\"/content/train\")"
      ],
      "execution_count": 10,
      "outputs": [
        {
          "output_type": "stream",
          "text": [
            "patool: Extracting /content/drive/My Drive/Experiments_CarConnection/thecarconnectionpicturedataset.rar ...\n",
            "patool: running /usr/bin/unrar x -- \"/content/drive/My Drive/Experiments_CarConnection/thecarconnectionpicturedataset.rar\"\n",
            "patool:     with cwd='/content/train'\n",
            "patool: ... /content/drive/My Drive/Experiments_CarConnection/thecarconnectionpicturedataset.rar extracted to `/content/train'.\n"
          ],
          "name": "stdout"
        },
        {
          "output_type": "execute_result",
          "data": {
            "application/vnd.google.colaboratory.intrinsic+json": {
              "type": "string"
            },
            "text/plain": [
              "'/content/train'"
            ]
          },
          "metadata": {
            "tags": []
          },
          "execution_count": 10
        }
      ]
    },
    {
      "cell_type": "code",
      "metadata": {
        "id": "BcJu7Yff4Olf",
        "colab_type": "code",
        "colab": {
          "base_uri": "https://localhost:8080/",
          "height": 33
        },
        "outputId": "b37df181-820a-48d7-8316-4c0f4650fda5"
      },
      "source": [
        "train_path = \"/content/train\"\n",
        "\n",
        "data_root_train = pathlib.Path(train_path)\n",
        "\n",
        "print(data_root_train)"
      ],
      "execution_count": 11,
      "outputs": [
        {
          "output_type": "stream",
          "text": [
            "/content/train\n"
          ],
          "name": "stdout"
        }
      ]
    },
    {
      "cell_type": "code",
      "metadata": {
        "id": "sW31VUu64OiD",
        "colab_type": "code",
        "colab": {
          "base_uri": "https://localhost:8080/",
          "height": 33
        },
        "outputId": "94dd9077-9674-4d30-ce3a-e646e4d4bb82"
      },
      "source": [
        "len(list(data_root_train.iterdir()))"
      ],
      "execution_count": 12,
      "outputs": [
        {
          "output_type": "execute_result",
          "data": {
            "text/plain": [
              "64467"
            ]
          },
          "metadata": {
            "tags": []
          },
          "execution_count": 12
        }
      ]
    },
    {
      "cell_type": "code",
      "metadata": {
        "id": "NZu3EJxI4Oge",
        "colab_type": "code",
        "colab": {}
      },
      "source": [
        "import random\n",
        "all_image_paths_train = list(data_root_train.glob('*.jpg'))\n",
        "\n",
        "all_image_paths_train = [str(path) for path in all_image_paths_train]"
      ],
      "execution_count": 13,
      "outputs": []
    },
    {
      "cell_type": "code",
      "metadata": {
        "id": "aAGGfND3_A81",
        "colab_type": "code",
        "colab": {
          "base_uri": "https://localhost:8080/",
          "height": 33
        },
        "outputId": "8e11c3ee-6072-4d2f-c75d-bb14ed44df92"
      },
      "source": [
        "image_count_train = len(all_image_paths_train)\n",
        "image_count_train"
      ],
      "execution_count": 14,
      "outputs": [
        {
          "output_type": "execute_result",
          "data": {
            "text/plain": [
              "64467"
            ]
          },
          "metadata": {
            "tags": []
          },
          "execution_count": 14
        }
      ]
    },
    {
      "cell_type": "markdown",
      "metadata": {
        "id": "QBxc4ubm4Iur",
        "colab_type": "text"
      },
      "source": [
        "# **Performing Object Detection to Detect Cars with 0.99% Accuracy.**\n"
      ]
    },
    {
      "cell_type": "code",
      "metadata": {
        "id": "L5o2j99xKx_2",
        "colab_type": "code",
        "colab": {
          "base_uri": "https://localhost:8080/",
          "height": 33
        },
        "outputId": "53944817-3a62-41e7-a088-09f6bc9a1294"
      },
      "source": [
        "%cd yolov3-tf2/"
      ],
      "execution_count": 15,
      "outputs": [
        {
          "output_type": "stream",
          "text": [
            "/content/yolov3-tf2\n"
          ],
          "name": "stdout"
        }
      ]
    },
    {
      "cell_type": "code",
      "metadata": {
        "id": "8kuFzoFb0T5q",
        "colab_type": "code",
        "colab": {
          "base_uri": "https://localhost:8080/",
          "height": 50
        },
        "outputId": "109f9fbb-5484-4e6b-c192-698e587ff481"
      },
      "source": [
        "if FLAGS.tiny:\n",
        "    yolo = YoloV3Tiny(classes=FLAGS.num_classes)\n",
        "else:\n",
        "    yolo = YoloV3(classes=FLAGS.num_classes)\n",
        "\n",
        "yolo.load_weights(FLAGS.weights).expect_partial()\n",
        "logging.info('weights loaded')\n",
        "\n",
        "class_names = [c.strip() for c in open(FLAGS.classes).readlines()]\n",
        "logging.info('classes loaded')"
      ],
      "execution_count": 16,
      "outputs": [
        {
          "output_type": "stream",
          "text": [
            "I0831 18:57:52.476508 139880189085568 <ipython-input-16-e395da3cb6f1>:7] weights loaded\n",
            "I0831 18:57:52.479069 139880189085568 <ipython-input-16-e395da3cb6f1>:10] classes loaded\n"
          ],
          "name": "stderr"
        }
      ]
    },
    {
      "cell_type": "code",
      "metadata": {
        "id": "mtmIhxQN4iha",
        "colab_type": "code",
        "colab": {}
      },
      "source": [
        "FLAGS.image = all_image_paths_train[0]\n",
        "\n",
        "img_raw = tf.image.decode_image(open(FLAGS.image, 'rb').read(), channels=3)\n",
        "img = tf.expand_dims(img_raw, 0)\n",
        "img = transform_images(img, FLAGS.size)\n",
        "\n",
        "boxes, scores, classes, nums = yolo(img)"
      ],
      "execution_count": 18,
      "outputs": []
    },
    {
      "cell_type": "code",
      "metadata": {
        "id": "BHzV5XMV4l6K",
        "colab_type": "code",
        "colab": {
          "base_uri": "https://localhost:8080/",
          "height": 33
        },
        "outputId": "d55248ab-9362-4562-ec89-c402d2ec3141"
      },
      "source": [
        "boxes[0][0].numpy()"
      ],
      "execution_count": 23,
      "outputs": [
        {
          "output_type": "execute_result",
          "data": {
            "text/plain": [
              "array([0.13106489, 0.29865217, 0.8181683 , 0.7933245 ], dtype=float32)"
            ]
          },
          "metadata": {
            "tags": []
          },
          "execution_count": 23
        }
      ]
    },
    {
      "cell_type": "code",
      "metadata": {
        "id": "4yR69EGr47OV",
        "colab_type": "code",
        "colab": {
          "base_uri": "https://localhost:8080/",
          "height": 33
        },
        "outputId": "b9ab4e13-817f-452c-8c49-086c62dc57b2"
      },
      "source": [
        "scores[0][0].numpy()"
      ],
      "execution_count": 27,
      "outputs": [
        {
          "output_type": "execute_result",
          "data": {
            "text/plain": [
              "0.9795768"
            ]
          },
          "metadata": {
            "tags": []
          },
          "execution_count": 27
        }
      ]
    },
    {
      "cell_type": "code",
      "metadata": {
        "id": "5TtcKWtc5A2M",
        "colab_type": "code",
        "colab": {
          "base_uri": "https://localhost:8080/",
          "height": 33
        },
        "outputId": "dd205817-4ffe-42e1-e94b-01dfeaae907e"
      },
      "source": [
        "classes[0][0].numpy()"
      ],
      "execution_count": 30,
      "outputs": [
        {
          "output_type": "execute_result",
          "data": {
            "text/plain": [
              "2.0"
            ]
          },
          "metadata": {
            "tags": []
          },
          "execution_count": 30
        }
      ]
    },
    {
      "cell_type": "code",
      "metadata": {
        "id": "NcI4RTXD5IC9",
        "colab_type": "code",
        "colab": {
          "base_uri": "https://localhost:8080/",
          "height": 33
        },
        "outputId": "6520019f-9b17-4415-9d5a-e60d4edb8c95"
      },
      "source": [
        "nums[0].numpy()"
      ],
      "execution_count": 33,
      "outputs": [
        {
          "output_type": "execute_result",
          "data": {
            "text/plain": [
              "1"
            ]
          },
          "metadata": {
            "tags": []
          },
          "execution_count": 33
        }
      ]
    },
    {
      "cell_type": "code",
      "metadata": {
        "id": "uu_pEpeB5zdg",
        "colab_type": "code",
        "colab": {
          "base_uri": "https://localhost:8080/",
          "height": 35
        },
        "outputId": "05e4d7d1-225a-4e5c-db98-e0ace4cce7fa"
      },
      "source": [
        "all_image_paths_train[0].split('/')[3]"
      ],
      "execution_count": 37,
      "outputs": [
        {
          "output_type": "execute_result",
          "data": {
            "application/vnd.google.colaboratory.intrinsic+json": {
              "type": "string"
            },
            "text/plain": [
              "'BMW_2-Series_2015_37_17_240_20_4_69_55_174_23_RWD_4_2_Convertible_fml.jpg'"
            ]
          },
          "metadata": {
            "tags": []
          },
          "execution_count": 37
        }
      ]
    },
    {
      "cell_type": "code",
      "metadata": {
        "id": "C1OAy6RfLjy1",
        "colab_type": "code",
        "colab": {}
      },
      "source": [
        "from tqdm import tqdm\n",
        "bbox = []\n",
        "image = []\n",
        "for i in tqdm(range(len(all_image_paths_train))):\n",
        "\n",
        "  FLAGS.image = all_image_paths_train[i]\n",
        "\n",
        "  img_raw = tf.image.decode_image(open(FLAGS.image, 'rb').read(), channels=3)\n",
        "  img = tf.expand_dims(img_raw, 0)\n",
        "  img = transform_images(img, FLAGS.size)\n",
        "\n",
        "  boxes, scores, classes, nums = yolo(img)\n",
        "\n",
        "  if list(classes[0].numpy()).count(2) == 1 and scores[0][list(classes[0].numpy()).index(2)] > 0.99:\n",
        "    bbox.append(boxes[0][list(classes[0].numpy()).index(2)].numpy())\n",
        "    image.append(all_image_paths_train[i].split('/')[3])"
      ],
      "execution_count": 60,
      "outputs": []
    },
    {
      "cell_type": "code",
      "metadata": {
        "id": "u-eS7sL7Cknb",
        "colab_type": "code",
        "colab": {
          "base_uri": "https://localhost:8080/",
          "height": 733
        },
        "outputId": "bb4cfed5-ac18-4b8b-b6de-6f4761d79acd"
      },
      "source": [
        "# sample Image detection.\n",
        "FLAGS.image = '/content/5d308dc19e075556e379ced6.jfif'\n",
        "\n",
        "if FLAGS.tiny:\n",
        "    yolo = YoloV3Tiny(classes=FLAGS.num_classes)\n",
        "else:\n",
        "    yolo = YoloV3(classes=FLAGS.num_classes)\n",
        "\n",
        "yolo.load_weights(FLAGS.weights).expect_partial()\n",
        "logging.info('weights loaded')\n",
        "\n",
        "class_names = [c.strip() for c in open(FLAGS.classes).readlines()]\n",
        "logging.info('classes loaded')\n",
        "\n",
        "img_raw = tf.image.decode_image(\n",
        "    open(FLAGS.image, 'rb').read(), channels=3)\n",
        "\n",
        "img = tf.expand_dims(img_raw, 0)\n",
        "img = transform_images(img, FLAGS.size)\n",
        "\n",
        "t1 = time.time()\n",
        "boxes, scores, classes, nums = yolo(img)\n",
        "t2 = time.time()\n",
        "logging.info('time: {}'.format(t2 - t1))\n",
        "\n",
        "logging.info('detections:')\n",
        "for i in range(nums[0]):\n",
        "    logging.info('\\t{}, {}, {}'.format(class_names[int(classes[0][i])],\n",
        "                                        np.array(scores[0][i]),\n",
        "                                        np.array(boxes[0][i])))\n",
        "    \n",
        "img = cv2.cvtColor(img_raw.numpy(), cv2.COLOR_RGB2BGR)\n",
        "img = draw_outputs(img, (boxes, scores, classes, nums), class_names)\n",
        "\n",
        "\n",
        "from IPython.display import Image, display\n",
        "display(Image(data=bytes(cv2.imencode('.jpg', img)[1]), width=800))"
      ],
      "execution_count": 40,
      "outputs": [
        {
          "output_type": "stream",
          "text": [
            "I0831 19:08:28.325449 139880189085568 <ipython-input-40-59b50ce2ff32>:9] weights loaded\n",
            "I0831 19:08:28.327179 139880189085568 <ipython-input-40-59b50ce2ff32>:12] classes loaded\n",
            "I0831 19:08:28.555861 139880189085568 <ipython-input-40-59b50ce2ff32>:23] time: 0.21659111976623535\n",
            "I0831 19:08:28.556832 139880189085568 <ipython-input-40-59b50ce2ff32>:25] detections:\n",
            "I0831 19:08:28.561442 139880189085568 <ipython-input-40-59b50ce2ff32>:29] \tperson, 0.999958872795105, [0.14398879 0.26509202 0.5349737  0.7090325 ]\n",
            "I0831 19:08:28.565415 139880189085568 <ipython-input-40-59b50ce2ff32>:29] \tcar, 0.990399181842804, [0.00823897 0.2066519  0.21911968 0.47618052]\n",
            "I0831 19:08:28.569063 139880189085568 <ipython-input-40-59b50ce2ff32>:29] \tcar, 0.9413484334945679, [0.26340938 0.2578757  0.8614297  0.9231986 ]\n"
          ],
          "name": "stderr"
        },
        {
          "output_type": "display_data",
          "data": {
            "image/jpeg": "[encoded data removed]",
            "text/plain": [
              "<IPython.core.display.Image object>"
            ]
          },
          "metadata": {
            "tags": [],
            "image/jpeg": {
              "width": 800
            }
          }
        }
      ]
    }
  ]
}