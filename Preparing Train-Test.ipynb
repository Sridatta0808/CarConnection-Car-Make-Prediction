{
 "cells": [
  {
   "cell_type": "markdown",
   "metadata": {},
   "source": [
    "## Splitting Data to Train and Test."
   ]
  },
  {
   "cell_type": "code",
   "execution_count": 1,
   "metadata": {},
   "outputs": [],
   "source": [
    "# Libraries\n",
    "import os\n",
    "import matplotlib.pyplot as plt\n",
    "from glob import glob\n",
    "import numpy as np\n",
    "from tqdm import tqdm\n",
    "from PIL import Image\n",
    "import pandas as pd\n",
    "import matplotlib.pyplot as plt"
   ]
  },
  {
   "cell_type": "code",
   "execution_count": 2,
   "metadata": {},
   "outputs": [],
   "source": [
    "# Get all the images.\n",
    "os.chdir(\"C:/Sridatta_Files/Self_CaseStudy-2/Dataset/Fully_car_dataset/\")"
   ]
  },
  {
   "cell_type": "code",
   "execution_count": 3,
   "metadata": {},
   "outputs": [],
   "source": [
    "files = glob('*.jpg')\n",
    "files = np.random.permutation(files)"
   ]
  },
  {
   "cell_type": "code",
   "execution_count": 4,
   "metadata": {},
   "outputs": [
    {
     "name": "stdout",
     "output_type": "stream",
     "text": [
      "Number of files in Train Data: 13225\n"
     ]
    }
   ],
   "source": [
    "print(\"Number of files in Train Data:\",len(files))"
   ]
  },
  {
   "cell_type": "code",
   "execution_count": 5,
   "metadata": {},
   "outputs": [],
   "source": [
    "data = []\n",
    "for i in files:\n",
    "    data.append(i.split('_'))"
   ]
  },
  {
   "cell_type": "code",
   "execution_count": 6,
   "metadata": {},
   "outputs": [
    {
     "name": "stderr",
     "output_type": "stream",
     "text": [
      "100%|████████████████████████████████████████████████████████████████████████████| 13225/13225 [03:22<00:00, 65.35it/s]\n"
     ]
    }
   ],
   "source": [
    "# Loadign images.\n",
    "# Step :1\n",
    "images = []\n",
    "for i in tqdm(files):\n",
    "    images.append(np.array(Image.open(i)))"
   ]
  },
  {
   "cell_type": "code",
   "execution_count": 7,
   "metadata": {},
   "outputs": [
    {
     "data": {
      "text/plain": [
       "17"
      ]
     },
     "execution_count": 7,
     "metadata": {},
     "output_type": "execute_result"
    }
   ],
   "source": [
    "len(data[0])"
   ]
  },
  {
   "cell_type": "code",
   "execution_count": 8,
   "metadata": {},
   "outputs": [],
   "source": [
    "project_data = pd.DataFrame(data, columns = ['1','2','3','4','5','6','7','8','9','10','11','12','13','14','15','16','17'])"
   ]
  },
  {
   "cell_type": "code",
   "execution_count": 9,
   "metadata": {},
   "outputs": [],
   "source": [
    "project_data['images'] = images"
   ]
  },
  {
   "cell_type": "code",
   "execution_count": 10,
   "metadata": {},
   "outputs": [
    {
     "data": {
      "text/plain": [
       "41"
      ]
     },
     "execution_count": 10,
     "metadata": {},
     "output_type": "execute_result"
    }
   ],
   "source": [
    "len(project_data['1'].value_counts())"
   ]
  },
  {
   "cell_type": "code",
   "execution_count": 11,
   "metadata": {},
   "outputs": [
    {
     "name": "stdout",
     "output_type": "stream",
     "text": [
      "10580\n",
      "2645\n"
     ]
    }
   ],
   "source": [
    "# Train and test split :\n",
    "from sklearn.model_selection import train_test_split\n",
    "\n",
    "X_train, X_test = train_test_split(project_data, test_size = 0.20, stratify = project_data['1'])\n",
    "print(len(X_train))\n",
    "print(len(X_test))"
   ]
  },
  {
   "cell_type": "code",
   "execution_count": 12,
   "metadata": {},
   "outputs": [],
   "source": [
    "X_train = X_train.reset_index()\n",
    "X_test = X_test.reset_index()"
   ]
  },
  {
   "cell_type": "code",
   "execution_count": 13,
   "metadata": {},
   "outputs": [
    {
     "name": "stderr",
     "output_type": "stream",
     "text": [
      "100%|███████████████████████████████████████████████████████████████████████████| 10580/10580 [00:40<00:00, 260.76it/s]\n"
     ]
    }
   ],
   "source": [
    "os.chdir(\"C:/Sridatta_Files/Self_CaseStudy-2/New_EXPERIMENTS/80-20/train/\")\n",
    "# Step : 2\n",
    "for i in tqdm(range(len(X_train))):\n",
    "    im = Image.fromarray(X_train['images'][i])\n",
    "    im.save(X_train['1'][i]+ '_' +  X_train['2'][i] + '_' + X_train['3'][i] + '_' + X_train['4'][i] + '_' + X_train['5'][i] +  '_' + X_train['6'][i] + '_' + X_train['7'][i] +'_' + X_train['8'][i] +'_' + X_train['9'][i] + '_' +X_train['10'][i] + '_' + X_train['11'][i] + '_' +X_train['12'][i] + '_' + X_train['13'][i] + '_' +X_train['14'][i] +'_' + X_train['15'][i] + '_' + X_train['16'][i] + '_' +  X_train['17'][i])    "
   ]
  },
  {
   "cell_type": "code",
   "execution_count": 14,
   "metadata": {},
   "outputs": [
    {
     "name": "stderr",
     "output_type": "stream",
     "text": [
      "100%|█████████████████████████████████████████████████████████████████████████████| 2645/2645 [00:12<00:00, 214.96it/s]\n"
     ]
    }
   ],
   "source": [
    "os.chdir(\"C:/Sridatta_Files/Self_CaseStudy-2/New_EXPERIMENTS/80-20/test/\")\n",
    "# Step : 2\n",
    "for i in tqdm(range(len(X_test))):\n",
    "    im = Image.fromarray(X_test['images'][i])\n",
    "    im.save(X_test['1'][i]+ '_' +  X_test['2'][i] + '_' + X_test['3'][i] + '_' + X_test['4'][i] + '_' + X_test['5'][i] +  '_' + X_test['6'][i] + '_' + X_test['7'][i] +'_' + X_test['8'][i] +'_' + X_test['9'][i] + '_' +X_test['10'][i] + '_' + X_test['11'][i] + '_' +X_test['12'][i] + '_' + X_test['13'][i] + '_' +X_test['14'][i] +'_' + X_test['15'][i] + '_' + X_test['16'][i] + '_' +  X_test['17'][i])    "
   ]
  },
  {
   "cell_type": "markdown",
   "metadata": {},
   "source": [
    "### Checking the Distribution of Train and Test."
   ]
  },
  {
   "cell_type": "code",
   "execution_count": 13,
   "metadata": {},
   "outputs": [],
   "source": [
    "train_val = X_train['1'].value_counts().values\n",
    "test_val = X_test['1'].value_counts().values"
   ]
  },
  {
   "cell_type": "code",
   "execution_count": 14,
   "metadata": {},
   "outputs": [
    {
     "data": {
      "image/png": "[encoded data removed]",
      "text/plain": [
       "<Figure size 432x288 with 1 Axes>"
      ]
     },
     "metadata": {},
     "output_type": "display_data"
    }
   ],
   "source": [
    "plt.plot(train_val)\n",
    "plt.ylabel('Image Samples')\n",
    "plt.show()"
   ]
  },
  {
   "cell_type": "code",
   "execution_count": 15,
   "metadata": {},
   "outputs": [
    {
     "data": {
      "image/png": "[encoded data removed]",
      "text/plain": [
       "<Figure size 432x288 with 1 Axes>"
      ]
     },
     "metadata": {},
     "output_type": "display_data"
    }
   ],
   "source": [
    "plt.plot(test_val)\n",
    "plt.ylabel('Image Samples')\n",
    "plt.show()"
   ]
  }
 ],
 "metadata": {
  "kernelspec": {
   "display_name": "Python 3",
   "language": "python",
   "name": "python3"
  },
  "language_info": {
   "codemirror_mode": {
    "name": "ipython",
    "version": 3
   },
   "file_extension": ".py",
   "mimetype": "text/x-python",
   "name": "python",
   "nbconvert_exporter": "python",
   "pygments_lexer": "ipython3",
   "version": "3.6.5"
  }
 },
 "nbformat": 4,
 "nbformat_minor": 2
}
